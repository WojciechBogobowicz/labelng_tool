{
 "cells": [
  {
   "cell_type": "code",
   "execution_count": 1,
   "metadata": {},
   "outputs": [],
   "source": [
    "from pathlib import Path\n",
    "from datetime import datetime\n",
    "\n",
    "from IPython.display import display, clear_output\n",
    "import ipywidgets as widgets\n",
    "from matplotlib import pyplot as plt\n",
    "from PIL import Image"
   ]
  },
  {
   "cell_type": "code",
   "execution_count": 2,
   "metadata": {},
   "outputs": [],
   "source": [
    "# Config\n",
    "output_folder_path_base = Path(\"dataset/categorized_training_data\")\n",
    "images_folder_path = Path(\"dataset/training_data/images\")\n",
    "class_names = [\"1\", \"2\", \"3\"]\n",
    "image_extensions = ['.png', '.jpg', '.jpeg']"
   ]
  },
  {
   "cell_type": "code",
   "execution_count": 3,
   "metadata": {},
   "outputs": [
    {
     "data": {
      "application/vnd.jupyter.widget-view+json": {
       "model_id": "9ff68acee0a2461b9dabb0ea123d8302",
       "version_major": 2,
       "version_minor": 0
      },
      "text/plain": [
       "Output()"
      ]
     },
     "metadata": {},
     "output_type": "display_data"
    }
   ],
   "source": [
    "# Initialize a placeholder for the display widget\n",
    "display_widget = widgets.Output()\n",
    "\n",
    "def exit_labeling(b):\n",
    "    with display_widget:\n",
    "        clear_output(wait=True)\n",
    "        print(\"Image labeling interrupted. Exiting...\")\n",
    "    global images\n",
    "    images = []  # Clear the list of images to stop the process\n",
    "\n",
    "# Function to handle button click event for class selection\n",
    "def on_button_clicked(class_folder, image_path):\n",
    "    def move_image(b):\n",
    "        # Ensure class folder exists\n",
    "        class_folder.mkdir(parents=True, exist_ok=True)\n",
    "        # Move image to corresponding class folder\n",
    "        new_path = class_folder / image_path.name\n",
    "        image_path.rename(new_path)\n",
    "        # Display next image\n",
    "        display_next_image()\n",
    "    return move_image\n",
    "\n",
    "# Function to display the next image\n",
    "def display_next_image():\n",
    "    if images:\n",
    "        image_path = images.pop(0)\n",
    "        with display_widget:\n",
    "            clear_output(wait=True)  # Clear the previous output\n",
    "            display_image(image_path)\n",
    "    else:\n",
    "        with display_widget:\n",
    "            clear_output(wait=True)\n",
    "            print(\"All images have been processed or labeling was interrupted.\")\n",
    "\n",
    "# Function to display an image and class buttons\n",
    "def display_image(image_path):\n",
    "    # Display the image\n",
    "    img = Image.open(image_path)\n",
    "    plt.imshow(img)\n",
    "    plt.axis('off')\n",
    "    plt.show()\n",
    "    \n",
    "    # Display buttons for classes\n",
    "    for class_name in class_names:\n",
    "        class_folder = output_folder_path / class_name\n",
    "        button = widgets.Button(description=class_name)\n",
    "        button.on_click(on_button_clicked(class_folder, image_path))\n",
    "        display(button)\n",
    "    \n",
    "    # Display an exit button\n",
    "    exit_button = widgets.Button(description=\"Exit Labeling\")\n",
    "    exit_button.on_click(exit_labeling)\n",
    "    display(exit_button)\n",
    "\n",
    "# Inputs\n",
    "timestamp = datetime.now().strftime(\"%Y-%m-%d_%H-%M-%S\")\n",
    "output_folder_path = output_folder_path_base / timestamp\n",
    "images = [file for file in images_folder_path.glob('*') if file.suffix.lower() in image_extensions]\n",
    "\n",
    "# Display the widget\n",
    "display(display_widget)\n",
    "\n",
    "# Start the labeling process\n",
    "display_next_image()\n"
   ]
  },
  {
   "cell_type": "code",
   "execution_count": null,
   "metadata": {},
   "outputs": [],
   "source": []
  }
 ],
 "metadata": {
  "kernelspec": {
   "display_name": "Python 3",
   "language": "python",
   "name": "python3"
  },
  "language_info": {
   "codemirror_mode": {
    "name": "ipython",
    "version": 3
   },
   "file_extension": ".py",
   "mimetype": "text/x-python",
   "name": "python",
   "nbconvert_exporter": "python",
   "pygments_lexer": "ipython3",
   "version": "3.10.7"
  },
  "orig_nbformat": 4
 },
 "nbformat": 4,
 "nbformat_minor": 2
}
